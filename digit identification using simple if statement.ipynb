{
 "cells": [
  {
   "cell_type": "code",
   "execution_count": 5,
   "id": "bccb6071",
   "metadata": {},
   "outputs": [
    {
     "name": "stdout",
     "output_type": "stream",
     "text": [
      "enter the digit:12\n"
     ]
    }
   ],
   "source": [
    "a=float(input(\"enter the digit:\"))"
   ]
  },
  {
   "cell_type": "code",
   "execution_count": 7,
   "id": "53288c91",
   "metadata": {},
   "outputs": [
    {
     "name": "stdout",
     "output_type": "stream",
     "text": [
      "It is a number\n"
     ]
    }
   ],
   "source": [
    "if(a==0):\n",
    "    print(\"Zero\")\n",
    "if(a==1):\n",
    "    print(\"One\")\n",
    "if(a==2):\n",
    "    print(\"Two\")\n",
    "if(a==3):\n",
    "    print(\"Three\")\n",
    "if(a==4):\n",
    "    print(\"Four\")\n",
    "if(a==5):\n",
    "    print(\"Five\")\n",
    "if(a==6):\n",
    "    print(\"Six\")\n",
    "if(a==7):\n",
    "    print(\"Seven\")\n",
    "if(a==8):\n",
    "    print(\"Eight\")\n",
    "if(a==9):\n",
    "    print(\"Nine\")\n",
    "if a not in range(0,10):\n",
    "        print(\"It is a number\")"
   ]
  },
  {
   "cell_type": "code",
   "execution_count": null,
   "id": "0e9f1baa",
   "metadata": {},
   "outputs": [],
   "source": []
  }
 ],
 "metadata": {
  "kernelspec": {
   "display_name": "Python 3 (ipykernel)",
   "language": "python",
   "name": "python3"
  },
  "language_info": {
   "codemirror_mode": {
    "name": "ipython",
    "version": 3
   },
   "file_extension": ".py",
   "mimetype": "text/x-python",
   "name": "python",
   "nbconvert_exporter": "python",
   "pygments_lexer": "ipython3",
   "version": "3.10.9"
  }
 },
 "nbformat": 4,
 "nbformat_minor": 5
}
